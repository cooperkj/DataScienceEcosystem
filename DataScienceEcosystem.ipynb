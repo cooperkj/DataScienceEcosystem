{
 "cells": [
  {
   "cell_type": "markdown",
   "id": "26b62e4b-4c78-4076-aa05-20da7febbf23",
   "metadata": {},
   "source": [
    "# Data Science Tool and Ecosystem"
   ]
  },
  {
   "cell_type": "markdown",
   "id": "7e009dcf-8482-4a41-9d74-3ebad63117ac",
   "metadata": {},
   "source": [
    "# In this notebook, Data Science Tools and Ecosystem are summarized."
   ]
  },
  {
   "cell_type": "markdown",
   "id": "e570769d-81ee-42e5-8927-ffe6a2e2cfc1",
   "metadata": {},
   "source": [
    "# Some of the popular languages that Data Scientists use are:\n",
    "1. R\n",
    "2. Java\n",
    "3. Python"
   ]
  },
  {
   "cell_type": "markdown",
   "id": "e6f31333-44a0-4076-a76b-8c6a42a965e2",
   "metadata": {},
   "source": [
    "# Some of the commonly used libraries used by Data Scientists include:\n",
    "- Pandas\n",
    "- NumPy\n",
    "- Metploblit\n",
    "- TensorFlow\n",
    "\n"
   ]
  },
  {
   "cell_type": "markdown",
   "id": "3bb8b8ff-80b9-426f-b752-e9f80eed0d1d",
   "metadata": {},
   "source": [
    "### Data Science Tools\n",
    "| Data Science Tools |\n",
    "|------------------- |\n",
    "| RStudio |\n",
    "| Jupyter Notebook |\n",
    "| VS Code |\n",
    "\n"
   ]
  },
  {
   "cell_type": "markdown",
   "id": "2dc6aaf4-522d-43d3-afbd-b555e391d796",
   "metadata": {},
   "source": [
    "### Below are a few examples of evaluating arithmetic expressions in Python\n",
    "\n"
   ]
  },
  {
   "cell_type": "code",
   "execution_count": 32,
   "id": "c0433bd8-ee91-47c2-9bdc-02812ca887be",
   "metadata": {},
   "outputs": [
    {
     "data": {
      "text/plain": [
       "17"
      ]
     },
     "execution_count": 32,
     "metadata": {},
     "output_type": "execute_result"
    }
   ],
   "source": [
    "## This a simple arithmetic expression to multiply then add integers:\n",
    "(3*4)+5 "
   ]
  },
  {
   "cell_type": "code",
   "execution_count": 34,
   "id": "41e46a85-d44a-4e1c-9922-cf7b1d607b31",
   "metadata": {},
   "outputs": [
    {
     "data": {
      "text/plain": [
       "3.3333333333333335"
      ]
     },
     "execution_count": 34,
     "metadata": {},
     "output_type": "execute_result"
    }
   ],
   "source": [
    "# This will convert 200 minutes to hours by diving by 60\n",
    "200/60"
   ]
  },
  {
   "cell_type": "markdown",
   "id": "433c62f4-4c5f-49aa-8a89-bad872a0f915",
   "metadata": {},
   "source": [
    "# Objectives:\n",
    "* List of popular languages for Data Science.\n",
    "* List of standard libraries for Data Science.\n",
    "* List of open-source Data Science tools.\n",
    "* Simple arithmetic expression.\n",
    "  "
   ]
  },
  {
   "cell_type": "markdown",
   "id": "b1bc4820-e9eb-4f69-860e-214a8c6bfacc",
   "metadata": {},
   "source": [
    "## Author\n",
    "Khanlar Jalayer "
   ]
  },
  {
   "cell_type": "code",
   "execution_count": null,
   "id": "7c2abffc-b21b-407b-b042-333293767707",
   "metadata": {},
   "outputs": [],
   "source": []
  }
 ],
 "metadata": {
  "kernelspec": {
   "display_name": "Python 3 (ipykernel)",
   "language": "python",
   "name": "python3"
  },
  "language_info": {
   "codemirror_mode": {
    "name": "ipython",
    "version": 3
   },
   "file_extension": ".py",
   "mimetype": "text/x-python",
   "name": "python",
   "nbconvert_exporter": "python",
   "pygments_lexer": "ipython3",
   "version": "3.12.4"
  }
 },
 "nbformat": 4,
 "nbformat_minor": 5
}
